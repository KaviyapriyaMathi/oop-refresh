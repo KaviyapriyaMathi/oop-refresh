{
  "nbformat": 4,
  "nbformat_minor": 0,
  "metadata": {
    "colab": {
      "provenance": []
    },
    "kernelspec": {
      "name": "python3",
      "display_name": "Python 3"
    },
    "language_info": {
      "name": "python"
    }
  },
  "cells": [
    {
      "cell_type": "code",
      "source": [
        "from abc import ABC, abstractmethod\n",
        "\n",
        "class Shape(ABC):\n",
        "    @abstractmethod\n",
        "    def area(self):\n",
        "        pass\n",
        "\n",
        "class Square(Shape):\n",
        "    def area(self,side):\n",
        "      self.side=side\n",
        "      return side*side\n",
        "\n",
        "class Rectangle(Shape):\n",
        "    def area(self,length,breadth):\n",
        "      self.length=length\n",
        "      self.breadth=breadth\n",
        "      return length*breadth\n",
        "\n",
        "square=Square()\n",
        "rect=Rectangle()\n",
        "\n",
        "print(square.area(5))\n",
        "print(rect.area(2,3))\n",
        "\n"
      ],
      "metadata": {
        "colab": {
          "base_uri": "https://localhost:8080/"
        },
        "id": "br9NIrEj84sf",
        "outputId": "3c9e9011-ce0b-4810-a26a-47b7e00ba7e3"
      },
      "execution_count": 33,
      "outputs": [
        {
          "output_type": "stream",
          "name": "stdout",
          "text": [
            "25\n",
            "6\n"
          ]
        }
      ]
    }
  ]
}