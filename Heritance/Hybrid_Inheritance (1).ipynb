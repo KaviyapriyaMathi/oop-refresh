{
  "nbformat": 4,
  "nbformat_minor": 0,
  "metadata": {
    "colab": {
      "provenance": []
    },
    "kernelspec": {
      "name": "python3",
      "display_name": "Python 3"
    },
    "language_info": {
      "name": "python"
    }
  },
  "cells": [
    {
      "cell_type": "code",
      "execution_count": 2,
      "metadata": {
        "colab": {
          "base_uri": "https://localhost:8080/"
        },
        "id": "qoA-XE-EYTWT",
        "outputId": "2d5b7ea9-4438-45e8-e06f-9fdbdbcdb5ca"
      },
      "outputs": [
        {
          "output_type": "stream",
          "name": "stdout",
          "text": [
            "[<class '__main__.A'>, <class 'object'>]\n",
            "[<class '__main__.B'>, <class '__main__.A'>, <class 'object'>]\n",
            "[<class '__main__.C'>, <class 'object'>]\n",
            "[<class '__main__.D'>, <class '__main__.B'>, <class '__main__.A'>, <class '__main__.C'>, <class 'object'>]\n",
            "[<class '__main__.E'>, <class '__main__.D'>, <class '__main__.B'>, <class '__main__.A'>, <class '__main__.C'>, <class 'object'>]\n",
            "[<class '__main__.F'>, <class '__main__.D'>, <class '__main__.B'>, <class '__main__.A'>, <class '__main__.C'>, <class 'object'>]\n"
          ]
        }
      ],
      "source": [
        "class A(object):\n",
        "  def display(self):\n",
        "    print('This is Class A')\n",
        "\n",
        "class B(A):\n",
        "  def display(self):\n",
        "    print('This is class B')\n",
        "\n",
        "class C:\n",
        "  def display(self):\n",
        "    print('This is class C')\n",
        "\n",
        "class D(B,C):\n",
        "  def display(self):\n",
        "    print('This is class D')\n",
        "\n",
        "class E(D):\n",
        "  def display(self):\n",
        "    print('This is class E')\n",
        "\n",
        "class F(D):\n",
        "  def display(self):\n",
        "    print('This is class F')\n",
        "\n",
        "print(A.mro())\n",
        "print(B.mro())\n",
        "print(C.mro())\n",
        "print(D.mro())\n",
        "print(E.mro())\n",
        "print(F.mro())"
      ]
    },
    {
      "cell_type": "code",
      "source": [
        "class A(object):\n",
        "  def display(self):\n",
        "    print('This is Class A')\n",
        "\n",
        "class B(A):\n",
        "  def display(self):\n",
        "    super().display()\n",
        "    print('This is class B')\n",
        "\n",
        "class C:\n",
        "  def display(self):\n",
        "    print('This is class C')\n",
        "\n",
        "class D(B,C):\n",
        "  def display(self):\n",
        "    super().display()\n",
        "    print('This is class D')\n",
        "\n",
        "class E(D):\n",
        "  def display(self):\n",
        "    super().display()\n",
        "    print('This is class E')\n",
        "\n",
        "class F(D):\n",
        "  def display(self):\n",
        "    super().display()\n",
        "    print('This is class F')\n",
        "\n",
        "a=A()\n",
        "b=B()\n",
        "c=C()\n",
        "d=D()\n",
        "e=E()\n",
        "f=F()\n",
        "\n",
        "print('Class A : ')\n",
        "a.display()\n",
        "print('\\nClass B : ')\n",
        "b.display()\n",
        "print('\\nClass C : ')\n",
        "c.display()\n",
        "print('\\nClass D : ')\n",
        "d.display()\n",
        "print('\\nClass E : ')\n",
        "e.display()\n",
        "print('\\nClass F : ')\n",
        "f.display()"
      ],
      "metadata": {
        "colab": {
          "base_uri": "https://localhost:8080/"
        },
        "id": "LXvGm9HwafA9",
        "outputId": "17178c54-707f-410a-8a62-c23597b4beed"
      },
      "execution_count": 10,
      "outputs": [
        {
          "output_type": "stream",
          "name": "stdout",
          "text": [
            "Class A : \n",
            "This is Class A\n",
            "\n",
            "Class B : \n",
            "This is Class A\n",
            "This is class B\n",
            "\n",
            "Class C : \n",
            "This is class C\n",
            "\n",
            "Class D : \n",
            "This is Class A\n",
            "This is class B\n",
            "This is class D\n",
            "\n",
            "Class E : \n",
            "This is Class A\n",
            "This is class B\n",
            "This is class D\n",
            "This is class E\n",
            "\n",
            "Class F : \n",
            "This is Class A\n",
            "This is class B\n",
            "This is class D\n",
            "This is class F\n"
          ]
        }
      ]
    }
  ]
}