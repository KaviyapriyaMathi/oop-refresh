{
  "nbformat": 4,
  "nbformat_minor": 0,
  "metadata": {
    "colab": {
      "provenance": []
    },
    "kernelspec": {
      "name": "python3",
      "display_name": "Python 3"
    },
    "language_info": {
      "name": "python"
    }
  },
  "cells": [
    {
      "cell_type": "code",
      "execution_count": 24,
      "metadata": {
        "colab": {
          "base_uri": "https://localhost:8080/"
        },
        "id": "71QLd_w5dHzD",
        "outputId": "711f6792-fa96-4d2a-8b24-87bf944a93d3"
      },
      "outputs": [
        {
          "output_type": "stream",
          "name": "stdout",
          "text": [
            "UNIVERSITY DETAILS :\n",
            "\n",
            "Uni_Name : Kumaraguru\n",
            "Location : Coimbatore\n",
            "\n",
            "COURSE DETAILS :\n",
            "\n",
            "Uni_Name : Kumaraguru\n",
            "Location : Coimbatore\n",
            "Course Name : B.Tech\n",
            "Duration : 4 years\n",
            "\n",
            "BRANCH DETAILS :\n",
            "\n",
            "Uni_Name : Kumaraguru\n",
            "Location : Coimbatore\n",
            "Branch: AI & DS\n",
            "\n",
            "STUDENT DETAILS :\n",
            "\n",
            "Student Name : Akhilll\n",
            "Roll_no : 123456\n",
            "Branch : AI & DS\n",
            "Course Name : B.Tech\n",
            "Duration : 4 years\n",
            "Uni_Name : Kumaraguru\n",
            "Location : Coimbatore\n",
            "\n",
            "FACULTY DETAILS :\n",
            "\n",
            "Faculty Name: Bhavni\n",
            "Employee id: 76543\n",
            "Branch: AI & DS\n",
            "Uni_Name: Kumaraguru\n",
            "Location: Coimbatore\n"
          ]
        }
      ],
      "source": [
        "class University(object):\n",
        "  def __init__(self):\n",
        "    self.Uname='Kumaraguru'\n",
        "    self.location='Coimbatore'\n",
        "  def Details(self):\n",
        "    print(f'\\nUni_Name : {self.Uname}\\nLocation : {self.location}')\n",
        "\n",
        "class Course(University):\n",
        "  def __init__(self):\n",
        "    super().__init__()\n",
        "    self.course='B.Tech'\n",
        "    self.duration='4 years'\n",
        "  def Details(self):\n",
        "    print(f'\\nUni_Name : {self.Uname}\\nLocation : {self.location}\\nCourse Name : {self.course}\\nDuration : {self.duration}')\n",
        "\n",
        "class Branch(University):\n",
        "    def __init__(self):\n",
        "        super().__init__()\n",
        "        self.branch = 'AI & DS'\n",
        "    def Details(self):\n",
        "        super().Details()\n",
        "        print(f'Branch: {self.branch}')\n",
        "\n",
        "class Student(Course,Branch):\n",
        "  def __init__(self,name,roll_no):\n",
        "    Course.__init__(self)\n",
        "    Branch.__init__(self)\n",
        "    self.name = name\n",
        "    self.roll_no = roll_no\n",
        "  def Details(self):\n",
        "    print(f'\\nStudent Name : {self.name}\\nRoll_no : {self.roll_no}\\nBranch : {self.branch}\\nCourse Name : {self.course}\\nDuration : {self.duration}\\nUni_Name : {self.Uname}\\nLocation : {self.location}')\n",
        "\n",
        "class Faculty(Branch):\n",
        "    def __init__(self, F_name, emp_id):\n",
        "        Branch.__init__(self)\n",
        "        self.F_name = F_name\n",
        "        self.emp_id = emp_id\n",
        "    def Details(self):\n",
        "        print(f'\\nFaculty Name: {self.F_name}\\nEmployee id: {self.emp_id}\\nBranch: {self.branch}\\nUni_Name: {self.Uname}\\nLocation: {self.location}')\n",
        "\n",
        "\n",
        "university=University()\n",
        "course=Course()\n",
        "branch=Branch()\n",
        "student=Student('Akhilll',123456)\n",
        "faculty=Faculty('Bhavni',76543)\n",
        "\n",
        "print('UNIVERSITY DETAILS :')\n",
        "university.Details()\n",
        "print('\\nCOURSE DETAILS :')\n",
        "course.Details()\n",
        "print('\\nBRANCH DETAILS :')\n",
        "branch.Details()\n",
        "print('\\nSTUDENT DETAILS :')\n",
        "student.Details()\n",
        "print('\\nFACULTY DETAILS :')\n",
        "faculty.Details()\n"
      ]
    }
  ]
}