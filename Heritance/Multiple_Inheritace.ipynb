{
  "nbformat": 4,
  "nbformat_minor": 0,
  "metadata": {
    "colab": {
      "provenance": []
    },
    "kernelspec": {
      "name": "python3",
      "display_name": "Python 3"
    },
    "language_info": {
      "name": "python"
    }
  },
  "cells": [
    {
      "cell_type": "code",
      "execution_count": 14,
      "metadata": {
        "colab": {
          "base_uri": "https://localhost:8080/"
        },
        "id": "7gQ5dgq3_Jy1",
        "outputId": "0d874c0e-e8c3-4b71-e8b5-0a4b56826e3d"
      },
      "outputs": [
        {
          "output_type": "stream",
          "name": "stdout",
          "text": [
            "eat\n",
            "test\n",
            "work2\n",
            "study\n",
            "[<class '__main__.Student'>, <class '__main__.Human'>, <class '__main__.Man'>, <class 'object'>]\n"
          ]
        }
      ],
      "source": [
        "class Human:\n",
        "  def eat(self):\n",
        "    print('eat')\n",
        "  def work(self):\n",
        "    print('work1')\n",
        "\n",
        "class Man:\n",
        "  def work(self):\n",
        "    print('work2')\n",
        "\n",
        "class Student(Human,Man):\n",
        "  def study(self):\n",
        "    print('study')\n",
        "  def work(self):\n",
        "    print('test')\n",
        "\n",
        "Stud=Student()\n",
        "Stud.eat()\n",
        "Stud.work()\n",
        "Man.work(Stud)\n",
        "Stud.study()\n",
        "print(Student.mro())"
      ]
    },
    {
      "cell_type": "code",
      "source": [
        "class Human:\n",
        "  def __init__(self,lang):\n",
        "    self.num_eye=2\n",
        "    self.num_nose=1\n",
        "    self.lang=lang\n",
        "\n",
        "  def eat(self):\n",
        "    print('eat')\n",
        "\n",
        "  def work(self):\n",
        "    print('work1')\n",
        "\n",
        "class Man:\n",
        "  def __init__(self,name):\n",
        "      self.name=name\n",
        "  def work2(self):\n",
        "    print('work2')\n",
        "\n",
        "class Student(Human,Man):\n",
        "  def __init__(self,name,lang):\n",
        "    Human.__init__(self,lang)\n",
        "    Man.__init__(self,name)\n",
        "\n",
        "  def study(self):\n",
        "    print('study')\n",
        "\n",
        "  def display(self):\n",
        "    return f\"Hii... I am {Stud.name}, I've {Stud.num_eye} eyes, {Stud.num_nose} nose and I know {Stud.lang} language\"\n",
        "\n",
        "Stud=Student('Krishh','Python')\n",
        "print(Stud.display())"
      ],
      "metadata": {
        "colab": {
          "base_uri": "https://localhost:8080/"
        },
        "id": "52JlTQxiDtUA",
        "outputId": "9ff60745-671e-4f47-e039-c7cf795d2079"
      },
      "execution_count": 30,
      "outputs": [
        {
          "output_type": "stream",
          "name": "stdout",
          "text": [
            "Hii... I am Krishh, I've 2 eyes, 1 nose and I know Python language\n"
          ]
        }
      ]
    }
  ]
}