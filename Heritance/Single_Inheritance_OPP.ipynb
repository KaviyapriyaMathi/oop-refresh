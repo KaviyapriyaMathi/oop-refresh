{
  "nbformat": 4,
  "nbformat_minor": 0,
  "metadata": {
    "colab": {
      "provenance": []
    },
    "kernelspec": {
      "name": "python3",
      "display_name": "Python 3"
    },
    "language_info": {
      "name": "python"
    }
  },
  "cells": [
    {
      "cell_type": "code",
      "execution_count": 58,
      "metadata": {
        "colab": {
          "base_uri": "https://localhost:8080/"
        },
        "id": "VkxsBhE4XKGk",
        "outputId": "a05067ae-0647-4de5-aec1-e0122880154f"
      },
      "outputs": [
        {
          "output_type": "stream",
          "name": "stdout",
          "text": [
            "I can eat\n",
            "I can code\n"
          ]
        }
      ],
      "source": [
        "class Human:\n",
        "  def eat(self):\n",
        "    print('I can eat')\n",
        "  def walk(self):\n",
        "    print('I can walk')\n",
        "  def work(self):\n",
        "    print('I can work')\n",
        "\n",
        "class Man(Human):\n",
        "  def work(self):\n",
        "    print('I can code')     # Overriding the work() from 'I can work' to 'I can Code'\n",
        "\n",
        "man=Man()\n",
        "man.eat()\n",
        "man.work()"
      ]
    },
    {
      "cell_type": "code",
      "source": [
        "class Human:\n",
        "  def eat(self):\n",
        "    print('I can eat')\n",
        "  def walk(self):\n",
        "    print('I can walk')\n",
        "  def work(self):\n",
        "    print('I can work')\n",
        "\n",
        "class Man(Human):\n",
        "  def work(self):\n",
        "    super().work()          # Adding super class used for giving access to methods and properties of a parent class to sibling class.\n",
        "    print('I can code')\n",
        "\n",
        "man=Man()\n",
        "man.work()"
      ],
      "metadata": {
        "colab": {
          "base_uri": "https://localhost:8080/"
        },
        "id": "lcO3sX5g4-X7",
        "outputId": "9db3db68-25b7-414b-9757-6fd330ca0c2c"
      },
      "execution_count": 61,
      "outputs": [
        {
          "output_type": "stream",
          "name": "stdout",
          "text": [
            "I can work\n",
            "I can code\n"
          ]
        }
      ]
    },
    {
      "cell_type": "code",
      "source": [
        "class Human:\n",
        "  def __init__(self,num_heart):\n",
        "    self.num_eyes=2\n",
        "    self.num_nose=1\n",
        "    self.num_heart=num_heart\n",
        "\n",
        "  def eat(self):\n",
        "    print('I can eat')\n",
        "\n",
        "  def walk(self):\n",
        "    print('I can walk')\n",
        "\n",
        "  def work(self):\n",
        "    print('I can work')\n",
        "\n",
        "class Man(Human):\n",
        "  def __init__(self,name,heart):\n",
        "    super().__init__(heart)\n",
        "    self.name=name\n",
        "\n",
        "  def work(self):\n",
        "    super().work()\n",
        "    print('I can code')\n",
        "\n",
        "  def display(self):\n",
        "    print(f\"Hii... I am {self.name}, I've {self.num_eyes} eyes and I've {self.num_heart} heart\")\n",
        "\n",
        "man=Man('Kanna',1)\n",
        "man.display()"
      ],
      "metadata": {
        "colab": {
          "base_uri": "https://localhost:8080/"
        },
        "id": "NKZMFJVF5sVC",
        "outputId": "31d3ca97-b003-4956-dfa7-f8bc9935c9c2"
      },
      "execution_count": 84,
      "outputs": [
        {
          "output_type": "stream",
          "name": "stdout",
          "text": [
            "Hii... I am Kanna, I've 2 eyes and I've 1 heart\n"
          ]
        }
      ]
    }
  ]
}