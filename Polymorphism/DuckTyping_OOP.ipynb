{
  "nbformat": 4,
  "nbformat_minor": 0,
  "metadata": {
    "colab": {
      "provenance": []
    },
    "kernelspec": {
      "name": "python3",
      "display_name": "Python 3"
    },
    "language_info": {
      "name": "python"
    }
  },
  "cells": [
    {
      "cell_type": "code",
      "execution_count": null,
      "metadata": {
        "colab": {
          "base_uri": "https://localhost:8080/"
        },
        "id": "uc5OGcsOOKRw",
        "outputId": "279e1676-d106-4245-b2d2-70fb4d488afb"
      },
      "outputs": [
        {
          "output_type": "stream",
          "name": "stdout",
          "text": [
            "30.25\n",
            "25\n"
          ]
        }
      ],
      "source": [
        "def square(x):\n",
        "  return x*x\n",
        "\n",
        "print(square(5.5))     # when we give float as input, it will return float as output / defaultly it knows it's type\n",
        "print(square(5))       # when we give int as input, it will return int as output"
      ]
    },
    {
      "cell_type": "code",
      "source": [
        "class Duck:\n",
        "  def quack(self):\n",
        "    print('Quaaack!')\n",
        "  def swim(self):\n",
        "    print('Swimminggg!')\n",
        "\n",
        "class Dog:\n",
        "  def bark(self):\n",
        "    print('Woof!')\n",
        "  def walk(self):\n",
        "    print('Wakinggg!')\n",
        "\n",
        "def display_duck(duck):\n",
        "  duck.quack()\n",
        "  duck.swim()\n",
        "  print('Got info about Duck! \\n')\n",
        "\n",
        "def display_dog(dog):\n",
        "  dog.bark()\n",
        "  dog.walk()\n",
        "  print('Got info about Dog! \\n')\n",
        "\n",
        "duck=Duck()\n",
        "display_duck(duck)\n",
        "\n",
        "dog=Dog()\n",
        "display_dog(dog)"
      ],
      "metadata": {
        "colab": {
          "base_uri": "https://localhost:8080/"
        },
        "id": "WuaWp2GhyyUs",
        "outputId": "1d268e8b-fd8a-4d3b-c6d1-bb5f2e09b704"
      },
      "execution_count": null,
      "outputs": [
        {
          "output_type": "stream",
          "name": "stdout",
          "text": [
            "Quaaack!\n",
            "Swimminggg!\n",
            "Got info about Duck! \n",
            "\n",
            "Woof!\n",
            "Wakinggg!\n",
            "Got info about Dog! \n",
            "\n"
          ]
        }
      ]
    },
    {
      "cell_type": "code",
      "source": [
        "class Duck:\n",
        "  def speak(self):\n",
        "    print('Quaaack!')\n",
        "  def walk(self):\n",
        "    print('Swimminggg!')\n",
        "\n",
        "class Dog:\n",
        "  def speak(self):\n",
        "    print('Woof!')\n",
        "  def walk(self):\n",
        "    print('Wakinggg!')\n",
        "\n",
        "def display(obj):\n",
        "  obj.speak()\n",
        "  obj.walk()\n",
        "  print('Got information!!!\\n')\n",
        "\n",
        "duck=Duck()\n",
        "dog=Dog()\n",
        "\n",
        "display(duck)\n",
        "display(dog)"
      ],
      "metadata": {
        "colab": {
          "base_uri": "https://localhost:8080/"
        },
        "id": "q5GEa9CA-pXD",
        "outputId": "6ae796e8-9749-40a6-9957-c80a9cf44d5a"
      },
      "execution_count": null,
      "outputs": [
        {
          "output_type": "stream",
          "name": "stdout",
          "text": [
            "Quaaack!\n",
            "Swimminggg!\n",
            "Got information!!!\n",
            "\n",
            "Woof!\n",
            "Wakinggg!\n",
            "Got information!!!\n",
            "\n"
          ]
        }
      ]
    }
  ]
}