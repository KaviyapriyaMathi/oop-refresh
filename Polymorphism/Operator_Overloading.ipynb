{
  "cells": [
    {
      "cell_type": "code",
      "execution_count": null,
      "metadata": {
        "colab": {
          "base_uri": "https://localhost:8080/"
        },
        "id": "0qnYuCUFA-Xi",
        "outputId": "8852cdb0-e77b-4ea9-8d2c-632ed60f9d45"
      },
      "outputs": [
        {
          "output_type": "stream",
          "name": "stdout",
          "text": [
            "4+6i\n"
          ]
        }
      ],
      "source": [
        "class complexNum:\n",
        "  def __init__(self,real,imag):\n",
        "    self.real=real\n",
        "    self.imag=imag\n",
        "  def __add__(self,other):\n",
        "    return f'{self.real + other.real}+{self.imag + other.imag}i'\n",
        "\n",
        "c1=complexNum(1,2)\n",
        "c2=complexNum(3,4)\n",
        "print(c1+c2)"
      ]
    },
    {
      "cell_type": "code",
      "source": [
        "class person:\n",
        "  def __init__(self,name,age):\n",
        "    self.name=name\n",
        "    self.age=age\n",
        "p1=person('Karna',28)\n",
        "p2=person('Arjuna',24)\n",
        "if p1.age>p2.age:\n",
        "  print(f'{p1.name} will pay the bill')\n",
        "else:\n",
        "  print(f'{p2.name} will pay the bill.')"
      ],
      "metadata": {
        "colab": {
          "base_uri": "https://localhost:8080/"
        },
        "id": "pgbbrpgmWhUG",
        "outputId": "b08e8c0e-e23f-4dfe-c105-3331f911310a"
      },
      "execution_count": null,
      "outputs": [
        {
          "output_type": "stream",
          "name": "stdout",
          "text": [
            "Karna will pay the bill\n"
          ]
        }
      ]
    }
  ],
  "metadata": {
    "colab": {
      "provenance": []
    },
    "kernelspec": {
      "display_name": "Python 3",
      "name": "python3"
    },
    "language_info": {
      "name": "python"
    }
  },
  "nbformat": 4,
  "nbformat_minor": 0
}