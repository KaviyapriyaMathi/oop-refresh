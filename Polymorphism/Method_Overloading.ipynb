{
  "cells": [
    {
      "cell_type": "code",
      "execution_count": 3,
      "metadata": {
        "colab": {
          "base_uri": "https://localhost:8080/"
        },
        "id": "JtJC-VSbae_5",
        "outputId": "2a1bbe24-8ed0-42aa-fa11-d5335d2a307b"
      },
      "outputs": [
        {
          "output_type": "stream",
          "name": "stdout",
          "text": [
            "3\n",
            "12\n",
            "130\n"
          ]
        }
      ],
      "source": [
        "class Demo:\n",
        "  def add(self,*args):\n",
        "    total=0\n",
        "    for i in args:\n",
        "      total+=i\n",
        "    return total\n",
        "d=Demo()\n",
        "print(d.add(1,2))\n",
        "print(d.add(3,4,5))\n",
        "print(d.add(6,7,8,9,10,20,30,40))"
      ]
    },
    {
      "cell_type": "code",
      "source": [
        "class Demo:\n",
        "    def add(self, *args, **kwargs):\n",
        "        total = 0\n",
        "        for i in args:\n",
        "            total += i\n",
        "        for key in kwargs:\n",
        "            total += kwargs[key]\n",
        "        return total\n",
        "\n",
        "d = Demo()\n",
        "print(d.add(1, 2, x=3, y=4))"
      ],
      "metadata": {
        "colab": {
          "base_uri": "https://localhost:8080/"
        },
        "id": "w-6kZy3UB6Op",
        "outputId": "3f247908-d577-4286-ca3b-8efe4b1006e4"
      },
      "execution_count": 5,
      "outputs": [
        {
          "output_type": "stream",
          "name": "stdout",
          "text": [
            "10\n"
          ]
        }
      ]
    }
  ],
  "metadata": {
    "colab": {
      "provenance": []
    },
    "kernelspec": {
      "display_name": "Python 3",
      "name": "python3"
    },
    "language_info": {
      "name": "python"
    }
  },
  "nbformat": 4,
  "nbformat_minor": 0
}