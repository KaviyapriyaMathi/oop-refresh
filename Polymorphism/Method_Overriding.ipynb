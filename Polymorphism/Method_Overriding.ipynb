{
  "nbformat": 4,
  "nbformat_minor": 0,
  "metadata": {
    "colab": {
      "provenance": []
    },
    "kernelspec": {
      "name": "python3",
      "display_name": "Python 3"
    },
    "language_info": {
      "name": "python"
    }
  },
  "cells": [
    {
      "cell_type": "code",
      "execution_count": 4,
      "metadata": {
        "id": "W-3KuFCq6XKR",
        "colab": {
          "base_uri": "https://localhost:8080/"
        },
        "outputId": "86230c95-aea2-4752-86d2-b3a235dc48ae"
      },
      "outputs": [
        {
          "output_type": "stream",
          "name": "stdout",
          "text": [
            "can sleep\n"
          ]
        }
      ],
      "source": [
        "class Father:\n",
        "  def sleep(self):\n",
        "    print('can sleep')\n",
        "\n",
        "class Son(Father):\n",
        "  def sleep(self):\n",
        "    super().sleep()\n",
        "\n",
        "son=Son()\n",
        "son.sleep()"
      ]
    }
  ]
}