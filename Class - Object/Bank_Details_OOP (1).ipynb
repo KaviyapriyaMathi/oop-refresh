{
  "nbformat": 4,
  "nbformat_minor": 0,
  "metadata": {
    "colab": {
      "provenance": []
    },
    "kernelspec": {
      "name": "python3",
      "display_name": "Python 3"
    },
    "language_info": {
      "name": "python"
    }
  },
  "cells": [
    {
      "cell_type": "code",
      "execution_count": 54,
      "metadata": {
        "colab": {
          "base_uri": "https://localhost:8080/"
        },
        "id": "VkxsBhE4XKGk",
        "outputId": "fa7aa871-a88b-4c18-c615-63d021766b6e"
      },
      "outputs": [
        {
          "output_type": "stream",
          "name": "stdout",
          "text": [
            "Name of the user is Shiva\n",
            "Balance of the user is 0\n",
            "\n",
            "Name of the user is Shiva\n",
            "Balance of the user is 2000\n",
            "\n",
            "Name of the user is Shiva\n",
            "Balance of the user is 1000\n",
            "\n"
          ]
        }
      ],
      "source": [
        "class bank_details:\n",
        "  def __init__(self,name,balance):\n",
        "    self.name=name\n",
        "    self.balance=balance\n",
        "\n",
        "  def withdrawal(self,amount):\n",
        "    self.amount=amount\n",
        "    if self.balance<self.amount:\n",
        "      return 'Insufficient balance'\n",
        "    else:\n",
        "      self.balance-=self.amount\n",
        "      return f'Amount after withdrawal {self.amount} is {self.balance}\\n'\n",
        "\n",
        "  def deposit(self,amount):\n",
        "    self.amount=amount\n",
        "    self.balance+=self.amount\n",
        "    return f'Amount after depositted {self.amount} is {self.balance}\\n'\n",
        "\n",
        "  def get_details(self):\n",
        "    print(f'Name of the user is {self.name}')\n",
        "    print(f'Balance of the user is {self.balance}\\n')\n",
        "\n",
        "\n",
        "user=bank_details('Shiva',0)\n",
        "user.get_details()\n",
        "\n",
        "user.deposit(2000)\n",
        "user.get_details()\n",
        "\n",
        "user.withdrawal(1000)\n",
        "user.get_details()\n"
      ]
    }
  ]
}