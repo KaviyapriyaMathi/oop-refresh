{
  "nbformat": 4,
  "nbformat_minor": 0,
  "metadata": {
    "colab": {
      "provenance": []
    },
    "kernelspec": {
      "name": "python3",
      "display_name": "Python 3"
    },
    "language_info": {
      "name": "python"
    }
  },
  "cells": [
    {
      "cell_type": "code",
      "execution_count": 13,
      "metadata": {
        "colab": {
          "base_uri": "https://localhost:8080/"
        },
        "id": "VkxsBhE4XKGk",
        "outputId": "50af804d-0eb2-48cf-c7a9-2d10d8d24e2b"
      },
      "outputs": [
        {
          "output_type": "stream",
          "name": "stdout",
          "text": [
            "Area of Rectangle with length 50 and breadth 70 is : 3500\n",
            "\n"
          ]
        }
      ],
      "source": [
        "class rectangle:\n",
        "  def __init__(self,length,breadth):\n",
        "    self.length=length\n",
        "    self.breadth=breadth\n",
        "\n",
        "  def get_area(self):\n",
        "    return self.length*self.breadth\n",
        "\n",
        "\n",
        "Rect1=rectangle(50,70)\n",
        "print(f'Area of Rectangle with length {Rect1.length} and breadth {Rect1.breadth} is : {Rect1.get_area()}\\n')"
      ]
    }
  ]
}