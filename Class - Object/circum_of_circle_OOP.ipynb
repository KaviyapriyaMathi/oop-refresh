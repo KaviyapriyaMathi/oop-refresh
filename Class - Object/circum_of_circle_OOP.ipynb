{
  "nbformat": 4,
  "nbformat_minor": 0,
  "metadata": {
    "colab": {
      "provenance": []
    },
    "kernelspec": {
      "name": "python3",
      "display_name": "Python 3"
    },
    "language_info": {
      "name": "python"
    }
  },
  "cells": [
    {
      "cell_type": "code",
      "execution_count": 10,
      "metadata": {
        "colab": {
          "base_uri": "https://localhost:8080/"
        },
        "id": "VkxsBhE4XKGk",
        "outputId": "f8f060b9-2039-48ea-c97e-9d0c392923fd"
      },
      "outputs": [
        {
          "output_type": "stream",
          "name": "stdout",
          "text": [
            "Circumference of Circle 1 with radius of 4 is : 25.12\n",
            "\n",
            "Circumference of Circle 2 with radius of 14 is : 87.92\n",
            "\n",
            "Area of Circle 1 with radius of 4 is : 50.24\n",
            "\n",
            "Area of Circle 2 with radius of 14 is : 615.44\n"
          ]
        }
      ],
      "source": [
        "class circle:                   #circle is the class. It defines the structure and behavior of circle objects, including attributes and methods.\n",
        "  def __init__(self,radius):    #self.radius is an attribute of the circle class. It stores the radius value for each instance of the class.\n",
        "    self.radius=radius\n",
        "\n",
        "  def get_circum(self):\n",
        "    return 2*3.14*self.radius\n",
        "\n",
        "  def area(self):\n",
        "    return 3.14*self.radius**2\n",
        "\n",
        "\n",
        "C1=circle(4)                    #C1 is an object (or instance) of the circle class.\n",
        "print(f'Circumference of Circle 1 with radius of {C1.radius} is : {C1.get_circum()}\\n')\n",
        "\n",
        "C2=circle(14)\n",
        "print(f'Circumference of Circle 2 with radius of {C2.radius} is : {C2.get_circum()}\\n')\n",
        "\n",
        "print(f'Area of Circle 1 with radius of {C1.radius} is : {C1.area()}\\n')\n",
        "print(f'Area of Circle 2 with radius of {C2.radius} is : {C2.area()}')"
      ]
    }
  ]
}