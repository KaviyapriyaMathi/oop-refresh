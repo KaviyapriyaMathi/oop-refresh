{
  "nbformat": 4,
  "nbformat_minor": 0,
  "metadata": {
    "colab": {
      "provenance": []
    },
    "kernelspec": {
      "name": "python3",
      "display_name": "Python 3"
    },
    "language_info": {
      "name": "python"
    }
  },
  "cells": [
    {
      "cell_type": "code",
      "execution_count": 53,
      "metadata": {
        "colab": {
          "base_uri": "https://localhost:8080/"
        },
        "id": "VkxsBhE4XKGk",
        "outputId": "76fa1a68-3dab-40fa-b19f-35209982484f"
      },
      "outputs": [
        {
          "output_type": "stream",
          "name": "stdout",
          "text": [
            "Name of the student is Kanna\n",
            "Age of the student is 18\n",
            "Address of the student is Dwarka\n",
            "\n",
            "Name of the student is Seetha\n",
            "Age of the student is 17\n",
            "Address of the student is Dwarka\n"
          ]
        }
      ],
      "source": [
        "class student:\n",
        "  def __init__(self,name,age,addr):\n",
        "    self.name=name\n",
        "    self.age=age\n",
        "    self.addr=addr\n",
        "\n",
        "  def get_details(self):\n",
        "    print(f'Name of the student is {self.name}')\n",
        "    print(f'Age of the student is {self.age}')\n",
        "    print(f'Address of the student is {self.addr}')\n",
        "\n",
        "  def update_student(self,name,age,addr):\n",
        "    self.name=name\n",
        "    self.age=age\n",
        "    self.addr=addr\n",
        "\n",
        "Student1=student('Kanna','18','Dwarka\\n')\n",
        "Student1.get_details()\n",
        "\n",
        "Student1.update_student('Seetha','17','Dwarka')\n",
        "Student1.get_details()"
      ]
    }
  ]
}